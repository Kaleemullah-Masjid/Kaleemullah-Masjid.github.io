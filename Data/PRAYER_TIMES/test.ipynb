{
 "cells": [
  {
   "cell_type": "code",
   "execution_count": 1,
   "metadata": {},
   "outputs": [],
   "source": [
    "import sqlite3\n",
    "import pandas as pd\n",
    "# Connect to an in-memory SQLite database\n",
    "conn = sqlite3.connect('Mosque.db')\n",
    "# Create a cursor object to execute SQL statements\n",
    "cursor = conn.cursor()\n"
   ]
  },
  {
   "cell_type": "code",
   "execution_count": 3,
   "metadata": {},
   "outputs": [],
   "source": [
    "dml_prayer_times = '''CREATE TABLE Prayer_Times\n",
    "    (\n",
    "        Date DATE,\n",
    "        Fajr VARCHAR(10),\n",
    "        Sunrise VARCHAR(10),\n",
    "        Dhuhr VARCHAR(10),\n",
    "        Asr VARCHAR(10),\n",
    "        Sunset VARCHAR(10),\n",
    "        Maghrib VARCHAR(10),\n",
    "        Isha VARCHAR(10),\n",
    "        Imsak VARCHAR(10),\n",
    "        Midnight VARCHAR(10),\n",
    "        Firstthird VARCHAR(10),\n",
    "        Lastthird VARCHAR(10),\n",
    "        Date_Added DATE\n",
    "    )\n",
    ";\n",
    "    \n",
    "'''\n",
    "cursor.execute(dml_prayer_times)\n",
    "cursor.close()"
   ]
  },
  {
   "cell_type": "code",
   "execution_count": 8,
   "metadata": {},
   "outputs": [
    {
     "data": {
      "text/plain": [
       "61"
      ]
     },
     "execution_count": 8,
     "metadata": {},
     "output_type": "execute_result"
    }
   ],
   "source": [
    "from sqlalchemy import create_engine\n",
    "engine = create_engine('sqlite:///Mosque.db')  # Replace 'your_database.db' with the name of your SQLite database\n",
    "# Append DataFrame to the SQLite table\n",
    "df = pd.read_csv('Prayer_Times.csv')\n",
    "df.to_sql('Prayer_Times', engine, if_exists='append', index=False)  # Replace 'your_table' with the name of your table"
   ]
  },
  {
   "cell_type": "code",
   "execution_count": 11,
   "metadata": {},
   "outputs": [
    {
     "data": {
      "text/plain": [
       "['01 Sep 2023',\n",
       " '02 Sep 2023',\n",
       " '03 Sep 2023',\n",
       " '04 Sep 2023',\n",
       " '05 Sep 2023',\n",
       " '06 Sep 2023',\n",
       " '07 Sep 2023',\n",
       " '08 Sep 2023',\n",
       " '09 Sep 2023',\n",
       " '10 Sep 2023',\n",
       " '11 Sep 2023',\n",
       " '12 Sep 2023',\n",
       " '13 Sep 2023',\n",
       " '14 Sep 2023',\n",
       " '15 Sep 2023',\n",
       " '16 Sep 2023',\n",
       " '17 Sep 2023',\n",
       " '18 Sep 2023',\n",
       " '19 Sep 2023',\n",
       " '20 Sep 2023',\n",
       " '21 Sep 2023',\n",
       " '22 Sep 2023',\n",
       " '23 Sep 2023',\n",
       " '24 Sep 2023',\n",
       " '25 Sep 2023',\n",
       " '26 Sep 2023',\n",
       " '27 Sep 2023',\n",
       " '28 Sep 2023',\n",
       " '29 Sep 2023',\n",
       " '30 Sep 2023',\n",
       " '01 Oct 2023',\n",
       " '02 Oct 2023',\n",
       " '03 Oct 2023',\n",
       " '04 Oct 2023',\n",
       " '05 Oct 2023',\n",
       " '06 Oct 2023',\n",
       " '07 Oct 2023',\n",
       " '08 Oct 2023',\n",
       " '09 Oct 2023',\n",
       " '10 Oct 2023',\n",
       " '11 Oct 2023',\n",
       " '12 Oct 2023',\n",
       " '13 Oct 2023',\n",
       " '14 Oct 2023',\n",
       " '15 Oct 2023',\n",
       " '16 Oct 2023',\n",
       " '17 Oct 2023',\n",
       " '18 Oct 2023',\n",
       " '19 Oct 2023',\n",
       " '20 Oct 2023',\n",
       " '21 Oct 2023',\n",
       " '22 Oct 2023',\n",
       " '23 Oct 2023',\n",
       " '24 Oct 2023',\n",
       " '25 Oct 2023',\n",
       " '26 Oct 2023',\n",
       " '27 Oct 2023',\n",
       " '28 Oct 2023',\n",
       " '29 Oct 2023',\n",
       " '30 Oct 2023',\n",
       " '31 Oct 2023']"
      ]
     },
     "execution_count": 11,
     "metadata": {},
     "output_type": "execute_result"
    }
   ],
   "source": [
    "table_name = 'Prayer_Times'\n",
    "existing_ids = pd.read_sql_query(f\"SELECT Date FROM {table_name}\", engine)['Date'].tolist()\n",
    "\n",
    "existing_ids"
   ]
  },
  {
   "cell_type": "code",
   "execution_count": 9,
   "metadata": {},
   "outputs": [],
   "source": [
    "engine.dispose()"
   ]
  }
 ],
 "metadata": {
  "kernelspec": {
   "display_name": "Python 3",
   "language": "python",
   "name": "python3"
  },
  "language_info": {
   "codemirror_mode": {
    "name": "ipython",
    "version": 3
   },
   "file_extension": ".py",
   "mimetype": "text/x-python",
   "name": "python",
   "nbconvert_exporter": "python",
   "pygments_lexer": "ipython3",
   "version": "3.11.4"
  },
  "orig_nbformat": 4
 },
 "nbformat": 4,
 "nbformat_minor": 2
}
