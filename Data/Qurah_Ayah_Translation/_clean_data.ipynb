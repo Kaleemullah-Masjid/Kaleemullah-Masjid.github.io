{
 "cells": [
  {
   "cell_type": "code",
   "execution_count": null,
   "metadata": {},
   "outputs": [],
   "source": [
    "import pandas as pd\n",
    "import nltk\n",
    "\n",
    "# Download the stopwords list\n",
    "nltk.download('stopwords')\n",
    "\n",
    "\n",
    "# Create a list of stopwords\n",
    "stopwords = nltk.corpus.stopwords.words('english')\n",
    "#Read CSV\n",
    "df = pd.read_csv('En-all-Juz.csv')\n",
    "df.head(5)\n",
    "\n"
   ]
  },
  {
   "cell_type": "code",
   "execution_count": null,
   "metadata": {},
   "outputs": [],
   "source": [
    "import pandas as pd\n",
    "#Read CSV\n",
    "df = pd.read_csv('En-all-Juz.csv')\n",
    "df.head(5)\n"
   ]
  }
 ],
 "metadata": {
  "kernelspec": {
   "display_name": "Python 3",
   "language": "python",
   "name": "python3"
  },
  "language_info": {
   "name": "python",
   "version": "3.12.0"
  }
 },
 "nbformat": 4,
 "nbformat_minor": 2
}
