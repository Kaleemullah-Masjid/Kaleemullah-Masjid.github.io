{
 "cells": [
  {
   "cell_type": "code",
   "execution_count": 5,
   "metadata": {},
   "outputs": [],
   "source": [
    "import pandas as pd"
   ]
  },
  {
   "cell_type": "code",
   "execution_count": 20,
   "metadata": {},
   "outputs": [
    {
     "name": "stdout",
     "output_type": "stream",
     "text": [
      "Requirement already satisfied: reportlab in c:\\users\\salik\\appdata\\local\\programs\\python\\python311\\lib\\site-packages (4.0.4)\n",
      "Collecting PyPDF2\n",
      "  Downloading pypdf2-3.0.1-py3-none-any.whl (232 kB)\n",
      "     ---------------------------------------- 0.0/232.6 kB ? eta -:--:--\n",
      "     ----------------------------------- - 225.3/232.6 kB 13.4 MB/s eta 0:00:01\n",
      "     -------------------------------------- 232.6/232.6 kB 7.2 MB/s eta 0:00:00\n",
      "Requirement already satisfied: pillow>=9.0.0 in c:\\users\\salik\\appdata\\local\\programs\\python\\python311\\lib\\site-packages (from reportlab) (9.4.0)\n",
      "Installing collected packages: PyPDF2\n",
      "Successfully installed PyPDF2-3.0.1\n"
     ]
    }
   ],
   "source": [
    "!pip install reportlab PyPDF2"
   ]
  },
  {
   "cell_type": "code",
   "execution_count": 18,
   "metadata": {},
   "outputs": [],
   "source": [
    "from reportlab.lib.pagesizes import letter\n",
    "from reportlab.platypus import SimpleDocTemplate, Image\n",
    "\n",
    "\n",
    "image_paths = ['WhatsApp Image 2023-08-01 at 9.14.18 PM.jpeg']\n",
    "pdf_filename = 'images_to_pdf.pdf'\n",
    "doc = SimpleDocTemplate(pdf_filename, pagesize=letter)\n",
    "\n",
    "# List to store image elements\n",
    "elements = []\n",
    "\n",
    "# Add images to the list of elements\n",
    "for image_path in image_paths:\n",
    "    img = Image(image_path, width=400, height=400)\n",
    "    elements.append(img)\n",
    "\n",
    "# Build the PDF document\n",
    "doc.build(elements)"
   ]
  },
  {
   "cell_type": "code",
   "execution_count": 25,
   "metadata": {},
   "outputs": [
    {
     "name": "stdout",
     "output_type": "stream",
     "text": [
      "\n"
     ]
    }
   ],
   "source": [
    "import PyPDF2\n",
    "pdf_filename = 'images_to_pdf.pdf'\n",
    "# Open the PDF file in read-binary mode\n",
    "with open(pdf_filename, 'rb') as pdf_file:\n",
    "    pdf_reader = PyPDF2.PdfReader(pdf_file)\n",
    "\n",
    "    # Read text from all pages\n",
    "    full_text = ''\n",
    "    for page_number in range(len(pdf_reader.pages)):\n",
    "        page = pdf_reader.pages[page_number]\n",
    "        page_text = page.extract_text()\n",
    "        print(page_text)\n",
    "        full_text += page_text\n",
    "\n",
    "# Print the extracted text"
   ]
  }
 ],
 "metadata": {
  "kernelspec": {
   "display_name": "Python 3",
   "language": "python",
   "name": "python3"
  },
  "language_info": {
   "codemirror_mode": {
    "name": "ipython",
    "version": 3
   },
   "file_extension": ".py",
   "mimetype": "text/x-python",
   "name": "python",
   "nbconvert_exporter": "python",
   "pygments_lexer": "ipython3",
   "version": "3.11.4"
  },
  "orig_nbformat": 4
 },
 "nbformat": 4,
 "nbformat_minor": 2
}
